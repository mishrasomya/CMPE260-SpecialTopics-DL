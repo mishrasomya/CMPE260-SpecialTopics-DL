{
  "nbformat": 4,
  "nbformat_minor": 0,
  "metadata": {
    "colab": {
      "name": "Assignment 1 Part A Pytorch.ipynb",
      "provenance": [],
      "collapsed_sections": []
    },
    "kernelspec": {
      "name": "python3",
      "display_name": "Python 3"
    },
    "language_info": {
      "name": "python"
    }
  },
  "cells": [
    {
      "cell_type": "markdown",
      "metadata": {
        "id": "IHt36TZfqU7g"
      },
      "source": [
        "# **CMPE 297- Advanced Deep Learning**\n",
        "**Assignment 1 Part A**\n",
        "\n",
        "Implementing SimCLR in Pytorch"
      ]
    },
    {
      "cell_type": "markdown",
      "metadata": {
        "id": "pXeosCA10OQx"
      },
      "source": [
        "**Acknowledgement:** https://medium.com/analytics-vidhya/understanding-simclr-a-simple-framework-for-contrastive-learning-of-visual-representations-d544a9003f3c"
      ]
    },
    {
      "cell_type": "markdown",
      "metadata": {
        "id": "9qGxHrOU1Nzt"
      },
      "source": [
        "#Import necessary libraries"
      ]
    },
    {
      "cell_type": "code",
      "metadata": {
        "id": "XyhmhsNzORyM"
      },
      "source": [
        "import os\n",
        "import torch\n",
        "import numpy as np\n",
        "import matplotlib.pyplot as plt\n",
        "import seaborn as sns\n",
        "\n",
        "from PIL import Image\n",
        "import torch.nn as nn\n",
        "from collections import OrderedDict, namedtuple\n",
        "from torchvision.models import resnet18\n",
        "import torchvision.transforms as transforms"
      ],
      "execution_count": null,
      "outputs": []
    },
    {
      "cell_type": "markdown",
      "metadata": {
        "id": "FQMIodKGne2-"
      },
      "source": [
        "#Download the data"
      ]
    },
    {
      "cell_type": "code",
      "metadata": {
        "colab": {
          "base_uri": "https://localhost:8080/"
        },
        "id": "pt7xuMDOnTBm",
        "outputId": "a3685d98-e5c5-4179-990e-1f715ff2e988"
      },
      "source": [
        "!gdown https://drive.google.com/uc?id=1x3BSoqoe76FcWdbagLj6Mx6_2EAJ982g"
      ],
      "execution_count": null,
      "outputs": [
        {
          "output_type": "stream",
          "name": "stdout",
          "text": [
            "Downloading...\n",
            "From: https://drive.google.com/uc?id=1x3BSoqoe76FcWdbagLj6Mx6_2EAJ982g\n",
            "To: /content/milli_imagenet.zip\n",
            "92.9MB [00:01, 76.3MB/s]\n"
          ]
        }
      ]
    },
    {
      "cell_type": "code",
      "metadata": {
        "id": "49DF6A8Bncia"
      },
      "source": [
        "import zipfile\n",
        "with zipfile.ZipFile('milli_imagenet.zip', 'r') as zip_ref:\n",
        "  zip_ref.extractall('/content/')"
      ],
      "execution_count": null,
      "outputs": []
    },
    {
      "cell_type": "markdown",
      "metadata": {
        "id": "doIp9M2snsLE"
      },
      "source": [
        "#Implement augmented image pairs in the dataset"
      ]
    },
    {
      "cell_type": "code",
      "metadata": {
        "id": "-gYHumA3nn-T"
      },
      "source": [
        "\n",
        "class TrainDataset(torch.utils.data.Dataset):\n",
        "    def __init__(self, args):\n",
        "        self.args = args\n",
        "        with open(os.path.join(args.datapath, \"train\",\"names.txt\")) as f:\n",
        "            self.filenames = f.read().split('\\n')\n",
        " \n",
        "    def __len__(self):\n",
        "        return len(self.filenames)\n",
        "\n",
        "    def tensorify(self, img):\n",
        "        return transforms.Normalize((0.5, 0.5, 0.5), (0.5, 0.5, 0.5))(\n",
        "            transforms.ToTensor()(img)\n",
        "            )\n",
        "    \n",
        "    def get_color_distortion(self, s=1.0):\n",
        "        color_jitter = transforms.ColorJitter(0.8 * s, 0.8 * s, 0.8 * s, 0.2 * s)\n",
        "        rnd_color_jitter =  transforms.RandomApply([color_jitter], p=0.8)\n",
        "        rnd_gray =  transforms.RandomGrayscale(p=0.2)\n",
        "        color_distort =  transforms.Compose([rnd_color_jitter, rnd_gray])\n",
        "        return color_distort\n",
        "\n",
        "    def augmented_image(self, img):\n",
        "        return self.get_color_distortion(1)(\n",
        "            transforms.RandomResizedCrop(224)(img)\n",
        "            )    \n",
        "\n",
        "    def __getitem__(self, idx):\n",
        "        img = transforms.Resize((224, 224))(\n",
        "                                Image.open(os.path.join(args.datapath, 'train', self.filenames[idx])).convert('RGB')\n",
        "                            )\n",
        "        return {\n",
        "        'image1':self.tensorify(\n",
        "            self.augmented_image(img)\n",
        "            ), \n",
        "        'image2': self.tensorify(\n",
        "            self.augmented_image(img)\n",
        "            )\n",
        "        }"
      ],
      "execution_count": null,
      "outputs": []
    },
    {
      "cell_type": "markdown",
      "metadata": {
        "id": "JWdyBzJMoGDz"
      },
      "source": [
        "#Define ResNet model"
      ]
    },
    {
      "cell_type": "code",
      "metadata": {
        "id": "nmZtE0ndn7nc"
      },
      "source": [
        "def get_model(args):\n",
        "    resnet = resnet18(pretrained=False)\n",
        "\n",
        "    head = nn.Sequential(OrderedDict([\n",
        "        ('fc1', nn.Linear(resnet.fc.in_features, 100)),\n",
        "        ('added_relu1', nn.ReLU(inplace=True)),\n",
        "        ('fc2', nn.Linear(100, 100)),\n",
        "        ('added_relu2', nn.ReLU(inplace=True)),\n",
        "        ('fc3', nn.Linear(100, 100))\n",
        "    ]))\n",
        "\n",
        "    resnet.fc = head\n",
        "\n",
        "    if args.multiple_gpus:\n",
        "        resnet = nn.DataParallel(resnet)\n",
        "\n",
        "    resnet.to(args.device)\n",
        "\n",
        "    return resnet"
      ],
      "execution_count": null,
      "outputs": []
    },
    {
      "cell_type": "markdown",
      "metadata": {
        "id": "sB_sfxwYoKtS"
      },
      "source": [
        "#Define loss function"
      ]
    },
    {
      "cell_type": "code",
      "metadata": {
        "id": "j7u4p8i9oIrF"
      },
      "source": [
        "tau = 0.05\n",
        "\n",
        "def loss_function(a, b):\n",
        "    a_norm = torch.norm(a, dim=1).reshape(-1, 1)\n",
        "    a_cap = torch.div(a, a_norm)\n",
        "    b_norm = torch.norm(b, dim=1).reshape(-1, 1)\n",
        "    b_cap = torch.div(b, b_norm)\n",
        "    a_cap_b_cap = torch.cat([a_cap, b_cap], dim=0)\n",
        "    a_cap_b_cap_transpose = torch.t(a_cap_b_cap)\n",
        "    b_cap_a_cap = torch.cat([b_cap, a_cap], dim=0)\n",
        "    sim = torch.mm(a_cap_b_cap, a_cap_b_cap_transpose)\n",
        "    sim_by_tau = torch.div(sim, tau)\n",
        "    exp_sim_by_tau = torch.exp(sim_by_tau)\n",
        "    sum_of_rows = torch.sum(exp_sim_by_tau, dim=1)\n",
        "    exp_sim_by_tau_diag = torch.diag(exp_sim_by_tau)\n",
        "    numerators = torch.exp(torch.div(torch.nn.CosineSimilarity()(a_cap_b_cap, b_cap_a_cap), tau))\n",
        "    denominators = sum_of_rows - exp_sim_by_tau_diag\n",
        "    num_by_den = torch.div(numerators, denominators)\n",
        "    neglog_num_by_den = -torch.log(num_by_den)\n",
        "    return torch.mean(neglog_num_by_den)\n",
        "\n",
        "def plot_losses(arr, legend_name):\n",
        "    plt.figure(figsize=(10, 10))\n",
        "    sns.set_style('darkgrid')\n",
        "    plt.plot(arr)\n",
        "    plt.xlabel('Steps')\n",
        "    plt.ylabel('Loss')\n",
        "    plt.show()"
      ],
      "execution_count": null,
      "outputs": []
    },
    {
      "cell_type": "markdown",
      "metadata": {
        "id": "QPjEOWLGoRIN"
      },
      "source": [
        "#Define SimCLR training loop"
      ]
    },
    {
      "cell_type": "code",
      "metadata": {
        "id": "Pw6m0WyfoOjk"
      },
      "source": [
        "class SimCLR:\n",
        "    def __init__(self, model, optimizer, dataloaders, loss_fn):\n",
        "        self.model = model\n",
        "        self.optimizer = optimizer\n",
        "        self.dataloaders = dataloaders\n",
        "        self.loss_fn = loss_fn\n",
        "\n",
        "    def train(self, args, num_epochs, log_interval):\n",
        "        batch_losses = []\n",
        "\n",
        "        self.model.train()\n",
        "    \n",
        "        # run a for loop for num_epochs\n",
        "        for epoch in range(num_epochs):\n",
        "\n",
        "            # run a for loop for each batch\n",
        "            for step, batch in enumerate(self.dataloaders['train']):\n",
        "                # zero out grads\n",
        "                self.optimizer.zero_grad()\n",
        "\n",
        "                x1 = batch['image1'].to(args.device)\n",
        "                x2 = batch['image2'].to(args.device)\n",
        "\n",
        "                # get their outputs\n",
        "                y1 = self.model(x1)\n",
        "                y2 = self.model(x2)\n",
        "\n",
        "                # get loss value\n",
        "                loss = self.loss_fn(y1, y2)\n",
        "\n",
        "                batch_losses.append(loss.cpu().data.item())\n",
        "\n",
        "                # perform backprop on loss value to get gradient values\n",
        "                loss.backward()\n",
        "\n",
        "                # run the optimizer\n",
        "                self.optimizer.step()\n",
        "                \n",
        "                if step % log_interval == 0:\n",
        "                    print(f'Epoch: {epoch} / {num_epochs} Step: {step} Loss: {loss.item()}')\n",
        "                \n",
        "                if step >= 5:\n",
        "                  break\n",
        "            \n",
        "        plot_losses(batch_losses, 'Training Losses')"
      ],
      "execution_count": null,
      "outputs": []
    },
    {
      "cell_type": "markdown",
      "metadata": {
        "id": "yLR2SJZeoYFQ"
      },
      "source": [
        "#Run SimCLR Training"
      ]
    },
    {
      "cell_type": "code",
      "metadata": {
        "colab": {
          "base_uri": "https://localhost:8080/",
          "height": 857
        },
        "id": "dG00Y4KYoVoF",
        "outputId": "c23d2082-1715-42e8-b1c3-ad83873e9f86"
      },
      "source": [
        "args = {\n",
        "    'datapath': '/content/milli_imagenet',\n",
        "    'cuda': False,\n",
        "    'batch_size': 8,\n",
        "    'num_workers': 2,\n",
        "    'multiple_gpus': False,\n",
        "}\n",
        "args['device'] = torch.device('cuda' if args['cuda'] else 'cpu')\n",
        "args = namedtuple('Args', args.keys())(*args.values())\n",
        "\n",
        "model = get_model(args)\n",
        "\n",
        "optimizer = torch.optim.Adam(\n",
        "    model.parameters(), \n",
        "    lr=0.001, \n",
        "    weight_decay=1e-4\n",
        "    )\n",
        "\n",
        "dataloaders = {}\n",
        "ds = TrainDataset(args)\n",
        "print(f'{len(ds)} images found for training')\n",
        "\n",
        "dataloaders['train'] = torch.utils.data.DataLoader(\n",
        "    ds, \n",
        "    batch_size=args.batch_size, \n",
        "    shuffle=True, \n",
        "    num_workers=args.num_workers\n",
        "    )\n",
        "\n",
        "loss_fn = loss_function\n",
        "simclrobj = SimCLR(model, optimizer, dataloaders, loss_fn)\n",
        "simclrobj.train(args, 5, 5)\n"
      ],
      "execution_count": null,
      "outputs": [
        {
          "output_type": "stream",
          "name": "stdout",
          "text": [
            "1250 images found for training\n"
          ]
        },
        {
          "output_type": "stream",
          "name": "stderr",
          "text": [
            "/usr/local/lib/python3.7/dist-packages/torch/nn/functional.py:718: UserWarning: Named tensors and all their associated APIs are an experimental feature and subject to change. Please do not use them for anything important until they are released as stable. (Triggered internally at  /pytorch/c10/core/TensorImpl.h:1156.)\n",
            "  return torch.max_pool2d(input, kernel_size, stride, padding, dilation, ceil_mode)\n"
          ]
        },
        {
          "output_type": "stream",
          "name": "stdout",
          "text": [
            "Epoch: 0 / 5 Step: 0 Loss: 2.7267258167266846\n",
            "Epoch: 0 / 5 Step: 5 Loss: 2.676352024078369\n",
            "Epoch: 1 / 5 Step: 0 Loss: 2.625755786895752\n",
            "Epoch: 1 / 5 Step: 5 Loss: 2.6106362342834473\n",
            "Epoch: 2 / 5 Step: 0 Loss: 2.740912675857544\n",
            "Epoch: 2 / 5 Step: 5 Loss: 2.5318763256073\n",
            "Epoch: 3 / 5 Step: 0 Loss: 2.663151264190674\n",
            "Epoch: 3 / 5 Step: 5 Loss: 2.9430150985717773\n",
            "Epoch: 4 / 5 Step: 0 Loss: 2.8283162117004395\n",
            "Epoch: 4 / 5 Step: 5 Loss: 2.635739326477051\n"
          ]
        },
        {
          "output_type": "display_data",
          "data": {
            "image/png": "[encoded data removed]",
            "text/plain": [
              "<Figure size 720x720 with 1 Axes>"
            ]
          },
          "metadata": {
            "needs_background": "light"
          }
        }
      ]
    },
    {
      "cell_type": "code",
      "metadata": {
        "id": "3vqht-IZof6b"
      },
      "source": [
        ""
      ],
      "execution_count": null,
      "outputs": []
    }
  ]
}